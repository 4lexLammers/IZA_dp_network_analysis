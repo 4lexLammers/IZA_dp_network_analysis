{
 "cells": [
  {
   "cell_type": "code",
   "execution_count": 1,
   "id": "af9c4814",
   "metadata": {},
   "outputs": [
    {
     "name": "stdout",
     "output_type": "stream",
     "text": [
      "Collecting pdfminer\n",
      "  Downloading pdfminer-20191125.tar.gz (4.2 MB)\n",
      "Collecting pycryptodome\n",
      "  Downloading pycryptodome-3.14.1-cp35-abi3-win_amd64.whl (1.8 MB)\n",
      "Building wheels for collected packages: pdfminer\n",
      "  Building wheel for pdfminer (setup.py): started\n",
      "  Building wheel for pdfminer (setup.py): finished with status 'done'\n",
      "  Created wheel for pdfminer: filename=pdfminer-20191125-py3-none-any.whl size=6140106 sha256=7453314c6e25971cdac7000938634c5fe60c99c97f6e7fd7fef08c9901ebc119\n",
      "  Stored in directory: c:\\users\\win7adm\\appdata\\local\\pip\\cache\\wheels\\1c\\28\\7d\\f390b82bb0307deb63ff27a1474fd308ec68ee028cb9ab6283\n",
      "Successfully built pdfminer\n",
      "Installing collected packages: pycryptodome, pdfminer\n",
      "Successfully installed pdfminer-20191125 pycryptodome-3.14.1\n"
     ]
    }
   ],
   "source": [
    "!pip install pdfminer\n",
    "!pip install PyPDF2\n",
    "!pip install pyvis"
   ]
  },
  {
   "cell_type": "code",
   "execution_count": 5,
   "id": "222f92bc",
   "metadata": {},
   "outputs": [],
   "source": [
    "\n",
    "from PyPDF2 import PdfFileReader\n",
    "from itertools import combinations\n",
    "from collections import Counter\n",
    "from itertools import chain\n",
    "import random\n",
    "from tqdm.notebook import tqdm, trange\n",
    "import time   \n",
    "import multiprocessing\n",
    "import smart_open\n",
    "from gensim.models.word2vec import Word2Vec\n",
    "from pyvis.network import Network\n",
    "from IPython.core.display import display, HTML\n",
    "from sklearn.metrics import pairwise_distances\n",
    "from sklearn.metrics.pairwise import cosine_similarity,cosine_distances\n",
    "from sklearn.cluster import KMeans\n",
    "import matplotlib.pyplot as plt\n",
    "import pandas as pd\n",
    "import numpy as np\n",
    "import seaborn as sns"
   ]
  },
  {
   "cell_type": "markdown",
   "id": "ef3dc7e5",
   "metadata": {},
   "source": [
    "## Generate pandas Dataframe from discussion papers"
   ]
  },
  {
   "cell_type": "code",
   "execution_count": 9,
   "id": "4abe346f",
   "metadata": {
    "scrolled": true
   },
   "outputs": [
    {
     "data": {
      "text/html": [
       "<div>\n",
       "<style scoped>\n",
       "    .dataframe tbody tr th:only-of-type {\n",
       "        vertical-align: middle;\n",
       "    }\n",
       "\n",
       "    .dataframe tbody tr th {\n",
       "        vertical-align: top;\n",
       "    }\n",
       "\n",
       "    .dataframe thead th {\n",
       "        text-align: right;\n",
       "    }\n",
       "</style>\n",
       "<table border=\"1\" class=\"dataframe\">\n",
       "  <thead>\n",
       "    <tr style=\"text-align: right;\">\n",
       "      <th></th>\n",
       "      <th>Authors</th>\n",
       "      <th>Title</th>\n",
       "      <th>Subject</th>\n",
       "      <th>Creator</th>\n",
       "      <th>Producer</th>\n",
       "      <th>Keywords</th>\n",
       "    </tr>\n",
       "  </thead>\n",
       "  <tbody>\n",
       "    <tr>\n",
       "      <th>0</th>\n",
       "      <td>Fabio Berton, Stefano Dughera, Andrea Ricci</td>\n",
       "      <td>Are Unions Detrimental to Innovation? Theory a...</td>\n",
       "      <td>IZA DP No. 14102</td>\n",
       "      <td>Microsoft® Word per Microsoft 365</td>\n",
       "      <td>Microsoft® Word per Microsoft 365</td>\n",
       "      <td>innovation, labor-unions</td>\n",
       "    </tr>\n",
       "    <tr>\n",
       "      <th>1</th>\n",
       "      <td>Olaf Hübler \\n</td>\n",
       "      <td>None</td>\n",
       "      <td>None</td>\n",
       "      <td>None</td>\n",
       "      <td>macOS Version 10.15.7 (Build 19H2) Quartz PDFC...</td>\n",
       "      <td>COVID-19, states, regional characteristics, pe...</td>\n",
       "    </tr>\n",
       "  </tbody>\n",
       "</table>\n",
       "</div>"
      ],
      "text/plain": [
       "                                       Authors  \\\n",
       "0  Fabio Berton, Stefano Dughera, Andrea Ricci   \n",
       "1                               Olaf Hübler \\n   \n",
       "\n",
       "                                               Title           Subject  \\\n",
       "0  Are Unions Detrimental to Innovation? Theory a...  IZA DP No. 14102   \n",
       "1                                               None              None   \n",
       "\n",
       "                             Creator  \\\n",
       "0  Microsoft® Word per Microsoft 365   \n",
       "1                               None   \n",
       "\n",
       "                                            Producer  \\\n",
       "0                  Microsoft® Word per Microsoft 365   \n",
       "1  macOS Version 10.15.7 (Build 19H2) Quartz PDFC...   \n",
       "\n",
       "                                            Keywords  \n",
       "0                           innovation, labor-unions  \n",
       "1  COVID-19, states, regional characteristics, pe...  "
      ]
     },
     "execution_count": 9,
     "metadata": {},
     "output_type": "execute_result"
    }
   ],
   "source": [
    "# Initiate pandas dataframe\n",
    "column_names = [\"Authors\", \"Title\", \"Subject\", \"Creator\", \"Producer\", \"Keywords\"]\n",
    "df = pd.DataFrame(columns = column_names)\n",
    "\n",
    "startnumber = 1\n",
    "endnumber = 15054\n",
    "\n",
    "for paper in range(startnumber,endnumber):\n",
    "    path = \"dp%d.pdf\"%(paper,)\n",
    "    \n",
    "    try:\n",
    "        with open(path, 'rb') as f:\n",
    "            pdf = PdfFileReader(f)\n",
    "            info = pdf.getDocumentInfo()\n",
    "            if '/Keywords' in info:\n",
    "                keywords = info['/Keywords']\n",
    "            number_of_pages = pdf.getNumPages()\n",
    "            author = info.author\n",
    "            creator = info.creator\n",
    "            producer = info.producer\n",
    "            subject = info.subject\n",
    "            title = info.title\n",
    "            \n",
    "            new_paper = {'Authors': author, 'Title':title, 'Subject':subject, \"Creator\": creator, \"Producer\": producer, \"Keywords\": keywords}\n",
    "            df = df.append(new_paper, ignore_index=True)\n",
    "    except:\n",
    "        continue"
   ]
  },
  {
   "cell_type": "markdown",
   "id": "fb6e5fb5",
   "metadata": {},
   "source": [
    "## OR Load the excel file in this repository!"
   ]
  },
  {
   "cell_type": "code",
   "execution_count": 51,
   "id": "ab034095",
   "metadata": {},
   "outputs": [],
   "source": [
    "df_cleaned = pd.read_excel('paperlist.xlsx', index_col=0) "
   ]
  },
  {
   "cell_type": "code",
   "execution_count": 52,
   "id": "dedaf9c4",
   "metadata": {},
   "outputs": [
    {
     "data": {
      "text/html": [
       "<div>\n",
       "<style scoped>\n",
       "    .dataframe tbody tr th:only-of-type {\n",
       "        vertical-align: middle;\n",
       "    }\n",
       "\n",
       "    .dataframe tbody tr th {\n",
       "        vertical-align: top;\n",
       "    }\n",
       "\n",
       "    .dataframe thead th {\n",
       "        text-align: right;\n",
       "    }\n",
       "</style>\n",
       "<table border=\"1\" class=\"dataframe\">\n",
       "  <thead>\n",
       "    <tr style=\"text-align: right;\">\n",
       "      <th></th>\n",
       "      <th>Authors</th>\n",
       "      <th>Title</th>\n",
       "      <th>Subject</th>\n",
       "      <th>Creator</th>\n",
       "      <th>Producer</th>\n",
       "      <th>Keywords</th>\n",
       "    </tr>\n",
       "  </thead>\n",
       "  <tbody>\n",
       "    <tr>\n",
       "      <th>0</th>\n",
       "      <td>IZA</td>\n",
       "      <td>IZA Discussion Paper No. 1</td>\n",
       "      <td>NaN</td>\n",
       "      <td>NaN</td>\n",
       "      <td>Acrobat Distiller 4.0 for Windows</td>\n",
       "      <td>intergenerational transmission, inheritances a...</td>\n",
       "    </tr>\n",
       "    <tr>\n",
       "      <th>1</th>\n",
       "      <td>IZA</td>\n",
       "      <td>IZA Discussion Paper No. 2</td>\n",
       "      <td>NaN</td>\n",
       "      <td>C:adobeDP2VENEDIG4.WPD</td>\n",
       "      <td>Acrobat PDFWriter 3.02 für Windows</td>\n",
       "      <td>NaN</td>\n",
       "    </tr>\n",
       "    <tr>\n",
       "      <th>2</th>\n",
       "      <td>IZA</td>\n",
       "      <td>IZA Discussion Paper No. 3</td>\n",
       "      <td>NaN</td>\n",
       "      <td>C:adobeDP3EGYPT.WPD</td>\n",
       "      <td>Acrobat PDFWriter 3.02 für Windows</td>\n",
       "      <td>NaN</td>\n",
       "    </tr>\n",
       "    <tr>\n",
       "      <th>3</th>\n",
       "      <td>IZA</td>\n",
       "      <td>IZA Discussion Paper No. 4</td>\n",
       "      <td>NaN</td>\n",
       "      <td>Corel WordPerfect - [P:\\Kläs\\public\\adobe\\dp4\\...</td>\n",
       "      <td>Acrobat PDFWriter 4.0 für Windows NT</td>\n",
       "      <td>NaN</td>\n",
       "    </tr>\n",
       "    <tr>\n",
       "      <th>4</th>\n",
       "      <td>IZA</td>\n",
       "      <td>IZA Discussion Paper No. 5</td>\n",
       "      <td>NaN</td>\n",
       "      <td>C:adobeDP5TOTAL5.WPD</td>\n",
       "      <td>Acrobat PDFWriter 3.02 für Windows</td>\n",
       "      <td>NaN</td>\n",
       "    </tr>\n",
       "    <tr>\n",
       "      <th>...</th>\n",
       "      <td>...</td>\n",
       "      <td>...</td>\n",
       "      <td>...</td>\n",
       "      <td>...</td>\n",
       "      <td>...</td>\n",
       "      <td>...</td>\n",
       "    </tr>\n",
       "    <tr>\n",
       "      <th>14997</th>\n",
       "      <td>Ana María Ibáñez, Andrés Moya, María Adelaida ...</td>\n",
       "      <td>Life Out of the Shadows: Impacts of Amnesties ...</td>\n",
       "      <td>IZA DP No. 15049</td>\n",
       "      <td>NaN</td>\n",
       "      <td>macOS Version 12.0.1 (Build 21A559) Quartz PDF...</td>\n",
       "      <td>migration, refugees, amnesties, Latin America</td>\n",
       "    </tr>\n",
       "    <tr>\n",
       "      <th>14998</th>\n",
       "      <td>Oded Stark, Wiktor Budzinski</td>\n",
       "      <td>The Demand for Gratitude as a Restraint on the...</td>\n",
       "      <td>IZA DP No. 15050</td>\n",
       "      <td>NaN</td>\n",
       "      <td>macOS Version 12.0.1 (Build 21A559) Quartz PDF...</td>\n",
       "      <td>gratitude formation, the parent’s demand for c...</td>\n",
       "    </tr>\n",
       "    <tr>\n",
       "      <th>14999</th>\n",
       "      <td>Margherita Fort, Andrea Ichino, Enrico Rettore...</td>\n",
       "      <td>NaN</td>\n",
       "      <td>IZA DP No. 15051</td>\n",
       "      <td>NaN</td>\n",
       "      <td>macOS Version 12.0.1 (Build 21A559) Quartz PDF...</td>\n",
       "      <td>regression discontinuity, multiple cutoffs, no...</td>\n",
       "    </tr>\n",
       "    <tr>\n",
       "      <th>15000</th>\n",
       "      <td>Michael Bates, Michael Dinerstein, Andrew C. J...</td>\n",
       "      <td>Teacher Labor Market Equilibrium and Student A...</td>\n",
       "      <td>IZA DP No. 15052</td>\n",
       "      <td>NaN</td>\n",
       "      <td>macOS Version 12.0.1 (Build 21A559) Quartz PDF...</td>\n",
       "      <td>teacher labor markets, teacher and principal p...</td>\n",
       "    </tr>\n",
       "    <tr>\n",
       "      <th>15001</th>\n",
       "      <td>NaN</td>\n",
       "      <td>Socially Optimal Crime and Punishment</td>\n",
       "      <td>IZA DP No. 15053</td>\n",
       "      <td>NaN</td>\n",
       "      <td>macOS Version 12.0.1 (Build 21A559) Quartz PDF...</td>\n",
       "      <td>crime, welfare, police, sentence length, socia...</td>\n",
       "    </tr>\n",
       "  </tbody>\n",
       "</table>\n",
       "<p>15002 rows × 6 columns</p>\n",
       "</div>"
      ],
      "text/plain": [
       "                                                 Authors  \\\n",
       "0                                                    IZA   \n",
       "1                                                    IZA   \n",
       "2                                                    IZA   \n",
       "3                                                    IZA   \n",
       "4                                                    IZA   \n",
       "...                                                  ...   \n",
       "14997  Ana María Ibáñez, Andrés Moya, María Adelaida ...   \n",
       "14998                       Oded Stark, Wiktor Budzinski   \n",
       "14999  Margherita Fort, Andrea Ichino, Enrico Rettore...   \n",
       "15000  Michael Bates, Michael Dinerstein, Andrew C. J...   \n",
       "15001                                                NaN   \n",
       "\n",
       "                                                   Title           Subject  \\\n",
       "0                             IZA Discussion Paper No. 1               NaN   \n",
       "1                             IZA Discussion Paper No. 2               NaN   \n",
       "2                             IZA Discussion Paper No. 3               NaN   \n",
       "3                             IZA Discussion Paper No. 4               NaN   \n",
       "4                             IZA Discussion Paper No. 5               NaN   \n",
       "...                                                  ...               ...   \n",
       "14997  Life Out of the Shadows: Impacts of Amnesties ...  IZA DP No. 15049   \n",
       "14998  The Demand for Gratitude as a Restraint on the...  IZA DP No. 15050   \n",
       "14999                                                NaN  IZA DP No. 15051   \n",
       "15000  Teacher Labor Market Equilibrium and Student A...  IZA DP No. 15052   \n",
       "15001              Socially Optimal Crime and Punishment  IZA DP No. 15053   \n",
       "\n",
       "                                                 Creator  \\\n",
       "0                                                    NaN   \n",
       "1                                 C:adobeDP2VENEDIG4.WPD   \n",
       "2                                    C:adobeDP3EGYPT.WPD   \n",
       "3      Corel WordPerfect - [P:\\Kläs\\public\\adobe\\dp4\\...   \n",
       "4                                   C:adobeDP5TOTAL5.WPD   \n",
       "...                                                  ...   \n",
       "14997                                                NaN   \n",
       "14998                                                NaN   \n",
       "14999                                                NaN   \n",
       "15000                                                NaN   \n",
       "15001                                                NaN   \n",
       "\n",
       "                                                Producer  \\\n",
       "0                      Acrobat Distiller 4.0 for Windows   \n",
       "1                     Acrobat PDFWriter 3.02 für Windows   \n",
       "2                     Acrobat PDFWriter 3.02 für Windows   \n",
       "3                   Acrobat PDFWriter 4.0 für Windows NT   \n",
       "4                     Acrobat PDFWriter 3.02 für Windows   \n",
       "...                                                  ...   \n",
       "14997  macOS Version 12.0.1 (Build 21A559) Quartz PDF...   \n",
       "14998  macOS Version 12.0.1 (Build 21A559) Quartz PDF...   \n",
       "14999  macOS Version 12.0.1 (Build 21A559) Quartz PDF...   \n",
       "15000  macOS Version 12.0.1 (Build 21A559) Quartz PDF...   \n",
       "15001  macOS Version 12.0.1 (Build 21A559) Quartz PDF...   \n",
       "\n",
       "                                                Keywords  \n",
       "0      intergenerational transmission, inheritances a...  \n",
       "1                                                    NaN  \n",
       "2                                                    NaN  \n",
       "3                                                    NaN  \n",
       "4                                                    NaN  \n",
       "...                                                  ...  \n",
       "14997      migration, refugees, amnesties, Latin America  \n",
       "14998  gratitude formation, the parent’s demand for c...  \n",
       "14999  regression discontinuity, multiple cutoffs, no...  \n",
       "15000  teacher labor markets, teacher and principal p...  \n",
       "15001  crime, welfare, police, sentence length, socia...  \n",
       "\n",
       "[15002 rows x 6 columns]"
      ]
     },
     "execution_count": 52,
     "metadata": {},
     "output_type": "execute_result"
    }
   ],
   "source": [
    "df_cleaned"
   ]
  },
  {
   "cell_type": "markdown",
   "id": "d22ee966",
   "metadata": {},
   "source": [
    "## Delete the first 904 rows without any meta data!"
   ]
  },
  {
   "cell_type": "code",
   "execution_count": 53,
   "id": "8ae803e0",
   "metadata": {},
   "outputs": [],
   "source": [
    "dfnew = df_cleaned.iloc[905:]"
   ]
  },
  {
   "cell_type": "code",
   "execution_count": 56,
   "id": "98d3beeb",
   "metadata": {},
   "outputs": [],
   "source": [
    "df_cleaned = dfnew"
   ]
  },
  {
   "cell_type": "code",
   "execution_count": 57,
   "id": "bf57deda",
   "metadata": {},
   "outputs": [],
   "source": [
    "df_cleaned = df_cleaned.reset_index(drop=True)"
   ]
  },
  {
   "cell_type": "code",
   "execution_count": 58,
   "id": "1cca422c",
   "metadata": {},
   "outputs": [],
   "source": [
    "df_cleaned.drop('Producer', axis=1, inplace=True)"
   ]
  },
  {
   "cell_type": "code",
   "execution_count": 59,
   "id": "4c5cde6b",
   "metadata": {},
   "outputs": [],
   "source": [
    "df_cleaned.drop('Creator', axis=1, inplace=True)"
   ]
  },
  {
   "cell_type": "code",
   "execution_count": 60,
   "id": "61b2dbc1",
   "metadata": {},
   "outputs": [
    {
     "data": {
      "text/html": [
       "<div>\n",
       "<style scoped>\n",
       "    .dataframe tbody tr th:only-of-type {\n",
       "        vertical-align: middle;\n",
       "    }\n",
       "\n",
       "    .dataframe tbody tr th {\n",
       "        vertical-align: top;\n",
       "    }\n",
       "\n",
       "    .dataframe thead th {\n",
       "        text-align: right;\n",
       "    }\n",
       "</style>\n",
       "<table border=\"1\" class=\"dataframe\">\n",
       "  <thead>\n",
       "    <tr style=\"text-align: right;\">\n",
       "      <th></th>\n",
       "      <th>Authors</th>\n",
       "      <th>Title</th>\n",
       "      <th>Subject</th>\n",
       "      <th>Keywords</th>\n",
       "    </tr>\n",
       "  </thead>\n",
       "  <tbody>\n",
       "    <tr>\n",
       "      <th>0</th>\n",
       "      <td>Sandra E. Black,  Paul J. Devereux,  Kjell G. ...</td>\n",
       "      <td>Why the Apple Doesn’t Fall Far: Understanding ...</td>\n",
       "      <td>IZA Discussion Paper No. 926</td>\n",
       "      <td>intergenerational mobility, education, educati...</td>\n",
       "    </tr>\n",
       "    <tr>\n",
       "      <th>1</th>\n",
       "      <td>Lorenz Goette, David Huffman, Ernst Fehr</td>\n",
       "      <td>Loss Aversion and Labor Supply</td>\n",
       "      <td>IZA Discussion Paper No. 927</td>\n",
       "      <td>labor supply, intertemporal substitution, loss...</td>\n",
       "    </tr>\n",
       "    <tr>\n",
       "      <th>2</th>\n",
       "      <td>Harris Selod, Yves Zenou</td>\n",
       "      <td>Does City Structure Affect the Labor Market Ou...</td>\n",
       "      <td>IZA Discussion Paper No. 928</td>\n",
       "      <td>spatial mismatch, multiple equilibria, racial ...</td>\n",
       "    </tr>\n",
       "    <tr>\n",
       "      <th>3</th>\n",
       "      <td>Zvi Eckstein, Gerard J. van den Berg</td>\n",
       "      <td>Empirical Labor Search: A Survey</td>\n",
       "      <td>IZA Discussion Paper No. 929</td>\n",
       "      <td>job search, mobility, unemployment, wages, dur...</td>\n",
       "    </tr>\n",
       "    <tr>\n",
       "      <th>4</th>\n",
       "      <td>Maarten Lindeboom, France Portrait, Gerard J. ...</td>\n",
       "      <td>Individual Mortality and Macro-Economic Condit...</td>\n",
       "      <td>IZA Discussion Paper No. 930</td>\n",
       "      <td>death, longevity, health, business cycle, rece...</td>\n",
       "    </tr>\n",
       "    <tr>\n",
       "      <th>...</th>\n",
       "      <td>...</td>\n",
       "      <td>...</td>\n",
       "      <td>...</td>\n",
       "      <td>...</td>\n",
       "    </tr>\n",
       "    <tr>\n",
       "      <th>14089</th>\n",
       "      <td>Robert A. Moffitt, Matthew V. Zahn</td>\n",
       "      <td>The Marginal Labor Supply Disincentives of Wel...</td>\n",
       "      <td>IZA DP No. 15046</td>\n",
       "      <td>welfare, labor supply, marginal treatment effects</td>\n",
       "    </tr>\n",
       "    <tr>\n",
       "      <th>14091</th>\n",
       "      <td>Chung Choe, SeEun Jungy, Ronald L. Oaxaca</td>\n",
       "      <td>What’s the Risk from Competing? Competition Av...</td>\n",
       "      <td>IZA DP No. 15048</td>\n",
       "      <td>gender wage gaps, wage decompositions, competi...</td>\n",
       "    </tr>\n",
       "    <tr>\n",
       "      <th>14092</th>\n",
       "      <td>Ana María Ibáñez, Andrés Moya, María Adelaida ...</td>\n",
       "      <td>Life Out of the Shadows: Impacts of Amnesties ...</td>\n",
       "      <td>IZA DP No. 15049</td>\n",
       "      <td>migration, refugees, amnesties, Latin America</td>\n",
       "    </tr>\n",
       "    <tr>\n",
       "      <th>14093</th>\n",
       "      <td>Oded Stark, Wiktor Budzinski</td>\n",
       "      <td>The Demand for Gratitude as a Restraint on the...</td>\n",
       "      <td>IZA DP No. 15050</td>\n",
       "      <td>gratitude formation, the parent’s demand for c...</td>\n",
       "    </tr>\n",
       "    <tr>\n",
       "      <th>14095</th>\n",
       "      <td>Michael Bates, Michael Dinerstein, Andrew C. J...</td>\n",
       "      <td>Teacher Labor Market Equilibrium and Student A...</td>\n",
       "      <td>IZA DP No. 15052</td>\n",
       "      <td>teacher labor markets, teacher and principal p...</td>\n",
       "    </tr>\n",
       "  </tbody>\n",
       "</table>\n",
       "<p>13734 rows × 4 columns</p>\n",
       "</div>"
      ],
      "text/plain": [
       "                                                 Authors  \\\n",
       "0      Sandra E. Black,  Paul J. Devereux,  Kjell G. ...   \n",
       "1               Lorenz Goette, David Huffman, Ernst Fehr   \n",
       "2                               Harris Selod, Yves Zenou   \n",
       "3                   Zvi Eckstein, Gerard J. van den Berg   \n",
       "4      Maarten Lindeboom, France Portrait, Gerard J. ...   \n",
       "...                                                  ...   \n",
       "14089                 Robert A. Moffitt, Matthew V. Zahn   \n",
       "14091          Chung Choe, SeEun Jungy, Ronald L. Oaxaca   \n",
       "14092  Ana María Ibáñez, Andrés Moya, María Adelaida ...   \n",
       "14093                       Oded Stark, Wiktor Budzinski   \n",
       "14095  Michael Bates, Michael Dinerstein, Andrew C. J...   \n",
       "\n",
       "                                                   Title  \\\n",
       "0      Why the Apple Doesn’t Fall Far: Understanding ...   \n",
       "1                         Loss Aversion and Labor Supply   \n",
       "2      Does City Structure Affect the Labor Market Ou...   \n",
       "3                       Empirical Labor Search: A Survey   \n",
       "4      Individual Mortality and Macro-Economic Condit...   \n",
       "...                                                  ...   \n",
       "14089  The Marginal Labor Supply Disincentives of Wel...   \n",
       "14091  What’s the Risk from Competing? Competition Av...   \n",
       "14092  Life Out of the Shadows: Impacts of Amnesties ...   \n",
       "14093  The Demand for Gratitude as a Restraint on the...   \n",
       "14095  Teacher Labor Market Equilibrium and Student A...   \n",
       "\n",
       "                            Subject  \\\n",
       "0      IZA Discussion Paper No. 926   \n",
       "1      IZA Discussion Paper No. 927   \n",
       "2      IZA Discussion Paper No. 928   \n",
       "3      IZA Discussion Paper No. 929   \n",
       "4      IZA Discussion Paper No. 930   \n",
       "...                             ...   \n",
       "14089              IZA DP No. 15046   \n",
       "14091              IZA DP No. 15048   \n",
       "14092              IZA DP No. 15049   \n",
       "14093              IZA DP No. 15050   \n",
       "14095              IZA DP No. 15052   \n",
       "\n",
       "                                                Keywords  \n",
       "0      intergenerational mobility, education, educati...  \n",
       "1      labor supply, intertemporal substitution, loss...  \n",
       "2      spatial mismatch, multiple equilibria, racial ...  \n",
       "3      job search, mobility, unemployment, wages, dur...  \n",
       "4      death, longevity, health, business cycle, rece...  \n",
       "...                                                  ...  \n",
       "14089  welfare, labor supply, marginal treatment effects  \n",
       "14091  gender wage gaps, wage decompositions, competi...  \n",
       "14092      migration, refugees, amnesties, Latin America  \n",
       "14093  gratitude formation, the parent’s demand for c...  \n",
       "14095  teacher labor markets, teacher and principal p...  \n",
       "\n",
       "[13734 rows x 4 columns]"
      ]
     },
     "execution_count": 60,
     "metadata": {},
     "output_type": "execute_result"
    }
   ],
   "source": [
    "df_cleaned.dropna()"
   ]
  },
  {
   "cell_type": "markdown",
   "id": "d8a6fdc0",
   "metadata": {},
   "source": [
    "## Start network analysis"
   ]
  },
  {
   "cell_type": "code",
   "execution_count": 61,
   "id": "01b193e1",
   "metadata": {},
   "outputs": [],
   "source": [
    "df_cleaned['test'] = df_cleaned['Authors'].str.split(',')"
   ]
  },
  {
   "cell_type": "code",
   "execution_count": 62,
   "id": "3ce15ec0",
   "metadata": {},
   "outputs": [],
   "source": [
    "df_cleaned = df_cleaned.mask(df_cleaned.eq('None')).dropna()"
   ]
  },
  {
   "cell_type": "markdown",
   "id": "4bc3629e",
   "metadata": {},
   "source": [
    "### Save cleaned dataset for further use"
   ]
  },
  {
   "cell_type": "code",
   "execution_count": 63,
   "id": "362676e8",
   "metadata": {},
   "outputs": [],
   "source": [
    "def flattenList(nested_list):\n",
    "    flat_list = [item for sublist in nested_list for item in sublist]\n",
    "    return flat_list"
   ]
  },
  {
   "cell_type": "code",
   "execution_count": 64,
   "id": "b6531d26",
   "metadata": {},
   "outputs": [
    {
     "data": {
      "text/plain": [
       "(13692, 2)"
      ]
     },
     "execution_count": 64,
     "metadata": {},
     "output_type": "execute_result"
    }
   ],
   "source": [
    "authors=pd.DataFrame(flattenList(df_cleaned['test'].tolist())).rename(columns={0:'test'})\n",
    "papers_by_authors=authors.groupby(['test']).size().reset_index().rename(columns={0:'Number of Papers Published'}).sort_values(\"Number of Papers Published\",ascending=False)\n",
    "papers_by_authors.shape"
   ]
  },
  {
   "cell_type": "code",
   "execution_count": 65,
   "id": "04cc5b96",
   "metadata": {},
   "outputs": [
    {
     "data": {
      "text/plain": [
       "count    13692.000000\n",
       "mean         2.492623\n",
       "std          3.793442\n",
       "min          1.000000\n",
       "25%          1.000000\n",
       "50%          1.000000\n",
       "75%          2.000000\n",
       "max         96.000000\n",
       "Name: Number of Papers Published, dtype: float64"
      ]
     },
     "execution_count": 65,
     "metadata": {},
     "output_type": "execute_result"
    }
   ],
   "source": [
    "papers_by_authors['Number of Papers Published'].describe()"
   ]
  },
  {
   "cell_type": "code",
   "execution_count": 66,
   "id": "8eb8f964",
   "metadata": {},
   "outputs": [
    {
     "data": {
      "text/plain": [
       "5245"
      ]
     },
     "execution_count": 66,
     "metadata": {},
     "output_type": "execute_result"
    }
   ],
   "source": [
    "## Keeping Authors who have published more than 2 Papers\n",
    "nodes_to_keep=papers_by_authors.loc[papers_by_authors['Number of Papers Published']>1,'test'].tolist()\n",
    "len(nodes_to_keep)"
   ]
  },
  {
   "cell_type": "code",
   "execution_count": 67,
   "id": "ec9baa0c",
   "metadata": {},
   "outputs": [],
   "source": [
    "df_cleaned['author_pairs']=df_cleaned['test'].apply(lambda x:list(combinations(x, 2)))"
   ]
  },
  {
   "cell_type": "code",
   "execution_count": 68,
   "id": "fe51bdc0",
   "metadata": {},
   "outputs": [
    {
     "data": {
      "text/plain": [
       "[('Sandra E. Black', '  Paul J. Devereux', 1),\n",
       " ('Sandra E. Black', '  Kjell G. Salvanes', 1),\n",
       " ('  Paul J. Devereux', '  Kjell G. Salvanes', 1),\n",
       " ('Lorenz Goette', ' David Huffman', 6),\n",
       " ('Lorenz Goette', ' Ernst Fehr', 1),\n",
       " (' David Huffman', ' Ernst Fehr', 1),\n",
       " ('Harris Selod', ' Yves Zenou', 1),\n",
       " ('Zvi Eckstein', ' Gerard J. van den Berg', 1),\n",
       " ('Maarten Lindeboom', ' France Portrait', 1),\n",
       " ('Maarten Lindeboom', ' Gerard J. van den Berg', 1)]"
      ]
     },
     "execution_count": 68,
     "metadata": {},
     "output_type": "execute_result"
    }
   ],
   "source": [
    "authors_pairs=df_cleaned['author_pairs'].tolist()\n",
    "authors_edge_list=[item for sublist in authors_pairs for item in sublist]\n",
    "authors_weighted_edge_list=list(Counter(authors_edge_list).items())\n",
    "authors_weighted_edge_list=[(row[0][0],row[0][1],row[1]) for idx,row in enumerate(authors_weighted_edge_list)]\n",
    "authors_weighted_edge_list[0:10]"
   ]
  },
  {
   "cell_type": "code",
   "execution_count": 69,
   "id": "184b1f76",
   "metadata": {},
   "outputs": [
    {
     "name": "stdout",
     "output_type": "stream",
     "text": [
      "13436\n"
     ]
    }
   ],
   "source": [
    "import networkx as nx\n",
    "from networkx.algorithms.components.connected import connected_components\n",
    "G1=nx.Graph()\n",
    "G1.add_weighted_edges_from(authors_weighted_edge_list)\n",
    "print(len(G1.nodes()))"
   ]
  },
  {
   "cell_type": "code",
   "execution_count": 70,
   "id": "0d561020",
   "metadata": {},
   "outputs": [
    {
     "name": "stdout",
     "output_type": "stream",
     "text": [
      "5181\n"
     ]
    },
    {
     "data": {
      "text/plain": [
       "139"
      ]
     },
     "execution_count": 70,
     "metadata": {},
     "output_type": "execute_result"
    }
   ],
   "source": [
    "## From the complete Graph, create a subgraph, with only the nodes to keep\n",
    "sub_g=nx.subgraph(G1,nodes_to_keep)\n",
    "G=nx.Graph(sub_g)\n",
    "print(len(G.nodes()))\n",
    "isolated_node=nx.isolates(G)\n",
    "len(list(isolated_node))"
   ]
  },
  {
   "cell_type": "code",
   "execution_count": 71,
   "id": "04e710dc",
   "metadata": {},
   "outputs": [
    {
     "data": {
      "text/plain": [
       "5042"
      ]
     },
     "execution_count": 71,
     "metadata": {},
     "output_type": "execute_result"
    }
   ],
   "source": [
    "G.remove_nodes_from(list(nx.isolates(G)))\n",
    "len(G.nodes)"
   ]
  },
  {
   "cell_type": "code",
   "execution_count": 72,
   "id": "93c58f76",
   "metadata": {},
   "outputs": [],
   "source": [
    "del G1, sub_g"
   ]
  },
  {
   "cell_type": "code",
   "execution_count": 73,
   "id": "4ba4e64c",
   "metadata": {},
   "outputs": [
    {
     "name": "stdout",
     "output_type": "stream",
     "text": [
      "Number of Nodes in Author Graph  5042\n",
      "Number of Edges in AUthor Graph  10337\n"
     ]
    }
   ],
   "source": [
    "print(\"Number of Nodes in Author Graph \",len(G.nodes()))\n",
    "print(\"Number of Edges in AUthor Graph \",len(G.edges()))"
   ]
  },
  {
   "cell_type": "code",
   "execution_count": 74,
   "id": "4ac98778",
   "metadata": {},
   "outputs": [],
   "source": [
    "def getRandomWalk(graph,node,length_of_random_walk):\n",
    "    \"\"\" This function takes NetworkX Graph and a Node and generate random walk for a given length \n",
    "    \n",
    "    Returns the random walk (list of nodes traversed)\n",
    "\n",
    "    Note: The same node may occcur more than once in a Random Walk.\n",
    "    \"\"\"\n",
    "    start_node=node\n",
    "    current_node=start_node\n",
    "    random_walk=[node]\n",
    "    for i in range(0,length_of_random_walk):\n",
    "        ## Choose a random neighbour of the current node\n",
    "        \n",
    "        current_node_neighbours=list(graph.neighbors(current_node))\n",
    "        chosen_node=random.choice(current_node_neighbours)\n",
    "        current_node=chosen_node\n",
    "        random_walk.append(current_node)\n",
    "    return random_walk"
   ]
  },
  {
   "cell_type": "code",
   "execution_count": 76,
   "id": "d7a1179b",
   "metadata": {},
   "outputs": [
    {
     "data": {
      "application/vnd.jupyter.widget-view+json": {
       "model_id": "47f61cf2c56c42e1a0fb8e8c671e6891",
       "version_major": 2,
       "version_minor": 0
      },
      "text/plain": [
       "Iterating Nodes:   0%|          | 0/5042 [00:00<?, ?it/s]"
      ]
     },
     "metadata": {},
     "output_type": "display_data"
    }
   ],
   "source": [
    "### For every Node in the Graph, get randomwalks . For eahc node, let us get random walks say around 10 times each of path length 10\n",
    "num_sampling=10\n",
    "random_walks=[]\n",
    "length_of_random_walk=10\n",
    "for node in tqdm(G.nodes(),desc=\"Iterating Nodes\"):\n",
    "    \n",
    "    for i in range(0,num_sampling):\n",
    "        random_walks.append(getRandomWalk(G,node,length_of_random_walk))\n"
   ]
  },
  {
   "cell_type": "code",
   "execution_count": 77,
   "id": "fc62efbc",
   "metadata": {},
   "outputs": [],
   "source": [
    "deepwalk_model=Word2Vec(sentences=random_walks,window=5,sg=1,negative=5,vector_size=128,epochs=20,compute_loss=True)"
   ]
  },
  {
   "cell_type": "code",
   "execution_count": 78,
   "id": "9b61475d",
   "metadata": {},
   "outputs": [],
   "source": [
    "deepwalk_model.save(\"deepwalk_since2015.model\")"
   ]
  },
  {
   "cell_type": "code",
   "execution_count": 79,
   "id": "8bff7389",
   "metadata": {},
   "outputs": [],
   "source": [
    "def getSimilarNodes(model,node):\n",
    "    \"\"\"\n",
    "    This function takes deepwalk model and a node\n",
    "    \n",
    "    Returns the top 10 nodes (author) similar to the given node \n",
    "    \"\"\"\n",
    "    similarity=model.wv.most_similar(node)\n",
    "    similar_nodes=pd.DataFrame()\n",
    "    similar_nodes['Similar_Node']=[row[0] for i,row in enumerate(similarity)]\n",
    "    similar_nodes['Similarity_Score']=[row[1] for i,row in enumerate(similarity)]\n",
    "    similar_nodes['Source_Node']=node\n",
    "    return similar_nodes"
   ]
  },
  {
   "cell_type": "code",
   "execution_count": 80,
   "id": "1d28e68b",
   "metadata": {},
   "outputs": [
    {
     "data": {
      "text/html": [
       "<div>\n",
       "<style scoped>\n",
       "    .dataframe tbody tr th:only-of-type {\n",
       "        vertical-align: middle;\n",
       "    }\n",
       "\n",
       "    .dataframe tbody tr th {\n",
       "        vertical-align: top;\n",
       "    }\n",
       "\n",
       "    .dataframe thead th {\n",
       "        text-align: right;\n",
       "    }\n",
       "</style>\n",
       "<table border=\"1\" class=\"dataframe\">\n",
       "  <thead>\n",
       "    <tr style=\"text-align: right;\">\n",
       "      <th></th>\n",
       "      <th>Similar_Node</th>\n",
       "      <th>Similarity_Score</th>\n",
       "      <th>Source_Node</th>\n",
       "    </tr>\n",
       "  </thead>\n",
       "  <tbody>\n",
       "    <tr>\n",
       "      <th>0</th>\n",
       "      <td>Stefanie Neimann</td>\n",
       "      <td>0.999283</td>\n",
       "      <td>Kornelius Kraft</td>\n",
       "    </tr>\n",
       "    <tr>\n",
       "      <th>1</th>\n",
       "      <td>Shareen Joshi</td>\n",
       "      <td>0.996516</td>\n",
       "      <td>Kornelius Kraft</td>\n",
       "    </tr>\n",
       "    <tr>\n",
       "      <th>2</th>\n",
       "      <td>Nadia S. Karamcheva</td>\n",
       "      <td>0.996376</td>\n",
       "      <td>Kornelius Kraft</td>\n",
       "    </tr>\n",
       "    <tr>\n",
       "      <th>3</th>\n",
       "      <td>Santosh Kumar</td>\n",
       "      <td>0.996369</td>\n",
       "      <td>Kornelius Kraft</td>\n",
       "    </tr>\n",
       "    <tr>\n",
       "      <th>4</th>\n",
       "      <td>T. Paul Schultz</td>\n",
       "      <td>0.996339</td>\n",
       "      <td>Kornelius Kraft</td>\n",
       "    </tr>\n",
       "    <tr>\n",
       "      <th>5</th>\n",
       "      <td>Michelle S. Goeree</td>\n",
       "      <td>0.996321</td>\n",
       "      <td>Kornelius Kraft</td>\n",
       "    </tr>\n",
       "    <tr>\n",
       "      <th>6</th>\n",
       "      <td>John C. Ham</td>\n",
       "      <td>0.996258</td>\n",
       "      <td>Kornelius Kraft</td>\n",
       "    </tr>\n",
       "    <tr>\n",
       "      <th>7</th>\n",
       "      <td>Daniela Iorio</td>\n",
       "      <td>0.996244</td>\n",
       "      <td>Kornelius Kraft</td>\n",
       "    </tr>\n",
       "    <tr>\n",
       "      <th>8</th>\n",
       "      <td>Barbara A. Butrica</td>\n",
       "      <td>0.996208</td>\n",
       "      <td>Kornelius Kraft</td>\n",
       "    </tr>\n",
       "    <tr>\n",
       "      <th>9</th>\n",
       "      <td>Gary S. Fields</td>\n",
       "      <td>0.996207</td>\n",
       "      <td>Kornelius Kraft</td>\n",
       "    </tr>\n",
       "  </tbody>\n",
       "</table>\n",
       "</div>"
      ],
      "text/plain": [
       "           Similar_Node  Similarity_Score      Source_Node\n",
       "0      Stefanie Neimann          0.999283  Kornelius Kraft\n",
       "1         Shareen Joshi          0.996516  Kornelius Kraft\n",
       "2   Nadia S. Karamcheva          0.996376  Kornelius Kraft\n",
       "3         Santosh Kumar          0.996369  Kornelius Kraft\n",
       "4       T. Paul Schultz          0.996339  Kornelius Kraft\n",
       "5    Michelle S. Goeree          0.996321  Kornelius Kraft\n",
       "6           John C. Ham          0.996258  Kornelius Kraft\n",
       "7         Daniela Iorio          0.996244  Kornelius Kraft\n",
       "8    Barbara A. Butrica          0.996208  Kornelius Kraft\n",
       "9        Gary S. Fields          0.996207  Kornelius Kraft"
      ]
     },
     "execution_count": 80,
     "metadata": {},
     "output_type": "execute_result"
    }
   ],
   "source": [
    "getSimilarNodes(deepwalk_model,\"Kornelius Kraft\")"
   ]
  },
  {
   "cell_type": "code",
   "execution_count": 81,
   "id": "15a949a2",
   "metadata": {},
   "outputs": [
    {
     "data": {
      "text/html": [
       "<div>\n",
       "<style scoped>\n",
       "    .dataframe tbody tr th:only-of-type {\n",
       "        vertical-align: middle;\n",
       "    }\n",
       "\n",
       "    .dataframe tbody tr th {\n",
       "        vertical-align: top;\n",
       "    }\n",
       "\n",
       "    .dataframe thead th {\n",
       "        text-align: right;\n",
       "    }\n",
       "</style>\n",
       "<table border=\"1\" class=\"dataframe\">\n",
       "  <thead>\n",
       "    <tr style=\"text-align: right;\">\n",
       "      <th></th>\n",
       "      <th>test</th>\n",
       "      <th>Number of Papers Published</th>\n",
       "    </tr>\n",
       "  </thead>\n",
       "  <tbody>\n",
       "    <tr>\n",
       "      <th>4287</th>\n",
       "      <td>Klaus F. Zimmermann</td>\n",
       "      <td>96</td>\n",
       "    </tr>\n",
       "    <tr>\n",
       "      <th>11548</th>\n",
       "      <td>Marco Caliendo</td>\n",
       "      <td>60</td>\n",
       "    </tr>\n",
       "    <tr>\n",
       "      <th>4741</th>\n",
       "      <td>Maarten van Ham</td>\n",
       "      <td>59</td>\n",
       "    </tr>\n",
       "    <tr>\n",
       "      <th>10904</th>\n",
       "      <td>John T. Addison</td>\n",
       "      <td>58</td>\n",
       "    </tr>\n",
       "    <tr>\n",
       "      <th>4665</th>\n",
       "      <td>Ludger Woessmann</td>\n",
       "      <td>51</td>\n",
       "    </tr>\n",
       "    <tr>\n",
       "      <th>...</th>\n",
       "      <td>...</td>\n",
       "      <td>...</td>\n",
       "    </tr>\n",
       "    <tr>\n",
       "      <th>5597</th>\n",
       "      <td>Minhyuk Nam</td>\n",
       "      <td>1</td>\n",
       "    </tr>\n",
       "    <tr>\n",
       "      <th>5598</th>\n",
       "      <td>Mintewab Bezabih</td>\n",
       "      <td>1</td>\n",
       "    </tr>\n",
       "    <tr>\n",
       "      <th>5599</th>\n",
       "      <td>Mira Fischer</td>\n",
       "      <td>1</td>\n",
       "    </tr>\n",
       "    <tr>\n",
       "      <th>5600</th>\n",
       "      <td>Miracle Ntuili</td>\n",
       "      <td>1</td>\n",
       "    </tr>\n",
       "    <tr>\n",
       "      <th>13691</th>\n",
       "      <td>Yarine Fawaz</td>\n",
       "      <td>1</td>\n",
       "    </tr>\n",
       "  </tbody>\n",
       "</table>\n",
       "<p>13692 rows × 2 columns</p>\n",
       "</div>"
      ],
      "text/plain": [
       "                       test  Number of Papers Published\n",
       "4287    Klaus F. Zimmermann                          96\n",
       "11548        Marco Caliendo                          60\n",
       "4741        Maarten van Ham                          59\n",
       "10904       John T. Addison                          58\n",
       "4665       Ludger Woessmann                          51\n",
       "...                     ...                         ...\n",
       "5597            Minhyuk Nam                           1\n",
       "5598       Mintewab Bezabih                           1\n",
       "5599           Mira Fischer                           1\n",
       "5600         Miracle Ntuili                           1\n",
       "13691         \n",
       "Yarine Fawaz                           1\n",
       "\n",
       "[13692 rows x 2 columns]"
      ]
     },
     "execution_count": 81,
     "metadata": {},
     "output_type": "execute_result"
    }
   ],
   "source": [
    "ai_authors=pd.DataFrame(flattenList(df_cleaned['test'].tolist())).rename(columns={0:'test'})\n",
    "papers_by_authors=ai_authors.groupby(['test']).size().reset_index().rename(columns={0:'Number of Papers Published'}).sort_values(\"Number of Papers Published\",ascending=False)\n",
    "papers_by_authors"
   ]
  },
  {
   "cell_type": "markdown",
   "id": "32f765a1",
   "metadata": {},
   "source": [
    "## Plot papers by author"
   ]
  },
  {
   "cell_type": "code",
   "execution_count": 145,
   "id": "5797f3f2",
   "metadata": {},
   "outputs": [
    {
     "data": {
      "text/plain": [
       "Text(0, 0.5, 'Number of Papers Published')"
      ]
     },
     "execution_count": 145,
     "metadata": {},
     "output_type": "execute_result"
    },
    {
     "data": {
      "image/png": "[encoded data removed]",
      "text/plain": [
       "<Figure size 1080x720 with 1 Axes>"
      ]
     },
     "metadata": {},
     "output_type": "display_data"
    }
   ],
   "source": [
    "top10 = papers_by_authors.iloc[:11]\n",
    "\n",
    "plt.figure(figsize=(15,10))\n",
    "#top10chart = sns.catplot(y='Number of Papers Published', data=top10, kind='bar', x=\"test\");\n",
    "top10chart = sns.barplot(y='Number of Papers Published', data=top10, x=\"test\", palette=\"Blues_d\");\n",
    "plt.xticks(rotation=45, horizontalalignment='right')\n",
    "sns.set(font_scale=1.5)\n",
    "plt.xlabel(\"\")\n",
    "plt.ylabel(\"Number of Papers Published\")"
   ]
  },
  {
   "cell_type": "code",
   "execution_count": 122,
   "id": "eb3ba2fd",
   "metadata": {},
   "outputs": [],
   "source": [
    "def getCoAuthorshipNetwork(graph,initial_nodes):\n",
    "    \"\"\"\n",
    "    This function takes a Graph and list of initial nodes \n",
    "    \n",
    "    Returns the set of immediate neighbours of these nodes\n",
    "\n",
    "    \"\"\"\n",
    "    total_neighbours=0\n",
    "    nodes_set=[initial_nodes]\n",
    "    for node in initial_nodes:\n",
    "        #print(node)\n",
    "        neighbours=list(graph.neighbors(node))\n",
    "        total_neighbours=total_neighbours+len(neighbours)\n",
    "        \n",
    "        nodes_set.append(neighbours)\n",
    "    print(total_neighbours)\n",
    "    nodes_set=flattenList(nodes_set)\n",
    "    return list(set(nodes_set))"
   ]
  },
  {
   "cell_type": "code",
   "execution_count": 123,
   "id": "27cd4726",
   "metadata": {},
   "outputs": [
    {
     "name": "stdout",
     "output_type": "stream",
     "text": [
      "184\n",
      "Number of CoAuthor Nodes  185\n"
     ]
    }
   ],
   "source": [
    "coauthor_nodes=getCoAuthorshipNetwork(G,papers_by_authors['test'].tolist()[4:10])\n",
    "print(\"Number of CoAuthor Nodes \",len(coauthor_nodes))"
   ]
  },
  {
   "cell_type": "code",
   "execution_count": 124,
   "id": "7361c972",
   "metadata": {},
   "outputs": [
    {
     "name": "stdout",
     "output_type": "stream",
     "text": [
      "number of edges in the CoAuthor Subgraph  377\n"
     ]
    }
   ],
   "source": [
    "coauthor_subgraph=nx.subgraph(G,coauthor_nodes)\n",
    "print(\"number of edges in the CoAuthor Subgraph \",len(coauthor_subgraph.edges()))"
   ]
  },
  {
   "cell_type": "code",
   "execution_count": 125,
   "id": "682b3ea3",
   "metadata": {},
   "outputs": [],
   "source": [
    "nx.write_gexf(coauthor_subgraph, \"CoAuthor_Subgraph_Author4to10.gexf\")"
   ]
  },
  {
   "cell_type": "code",
   "execution_count": 126,
   "id": "29b3e8bc",
   "metadata": {},
   "outputs": [
    {
     "name": "stdout",
     "output_type": "stream",
     "text": [
      "number of edges in the CoAuthor Subgraph  377\n"
     ]
    }
   ],
   "source": [
    "print(\"number of edges in the CoAuthor Subgraph \",len(coauthor_subgraph.edges()))"
   ]
  },
  {
   "cell_type": "code",
   "execution_count": 127,
   "id": "cfbda322",
   "metadata": {},
   "outputs": [
    {
     "name": "stdout",
     "output_type": "stream",
     "text": [
      "Creating PyVis from NetworkX\n",
      "Saving PyVis Graph\n"
     ]
    },
    {
     "data": {
      "text/html": [
       "\n",
       "        <iframe\n",
       "            width=\"100%\"\n",
       "            height=\"800px\"\n",
       "            src=\"Author4to10_CoAuthorGraph.html\"\n",
       "            frameborder=\"0\"\n",
       "            allowfullscreen\n",
       "        ></iframe>\n",
       "        "
      ],
      "text/plain": [
       "<IPython.lib.display.IFrame at 0x1d593d14520>"
      ]
     },
     "execution_count": 127,
     "metadata": {},
     "output_type": "execute_result"
    }
   ],
   "source": [
    "pyvis_nt=Network(notebook=True,height='800px', width='100%',heading='')\n",
    "\n",
    "print(\"Creating PyVis from NetworkX\")\n",
    "pyvis_nt.from_nx(coauthor_subgraph)\n",
    "\n",
    "print(\"Saving PyVis Graph\")\n",
    "pyvis_nt.show(\"Author4to10_CoAuthorGraph.html\")"
   ]
  },
  {
   "cell_type": "code",
   "execution_count": 146,
   "id": "651bfdad",
   "metadata": {},
   "outputs": [],
   "source": [
    "def getCosineDistanceMatrix(vectors):\n",
    "    '''\n",
    "    This function takes list of vectors or numpy array \n",
    "    \n",
    "    Returns the pairwise cosine similarity matrix\n",
    "    '''\n",
    "    if type(vectors)==list:\n",
    "        X=np.asarray(vectors)\n",
    "    elif type(vectors)==np.ndarray:\n",
    "        X=vectors\n",
    "    else:\n",
    "        print(\"Error in Data Type . Need to Pass list or numpy array as input argument\")\n",
    "        return []\n",
    "    cosine_dist=cosine_distances(X)\n",
    "    return cosine_dist"
   ]
  },
  {
   "cell_type": "code",
   "execution_count": 147,
   "id": "ab1b7eff",
   "metadata": {},
   "outputs": [
    {
     "name": "stdout",
     "output_type": "stream",
     "text": [
      "Number of CoAuthor Subgraph Nodes 185\n"
     ]
    }
   ],
   "source": [
    "coauthor_nodes=list(coauthor_subgraph.nodes)\n",
    "print(\"Number of CoAuthor Subgraph Nodes\",len(coauthor_nodes))"
   ]
  },
  {
   "cell_type": "code",
   "execution_count": 148,
   "id": "878902f5",
   "metadata": {},
   "outputs": [],
   "source": [
    "coauthor_embeddings=[deepwalk_model.wv[node] for node in coauthor_nodes]"
   ]
  },
  {
   "cell_type": "code",
   "execution_count": 152,
   "id": "b3108e6f",
   "metadata": {},
   "outputs": [
    {
     "name": "stdout",
     "output_type": "stream",
     "text": [
      "(185, 128)\n"
     ]
    }
   ],
   "source": [
    "coauthor_embeddings=np.asarray(coauthor_embeddings)\n",
    "\n",
    "print(coauthor_embeddings.shape)"
   ]
  },
  {
   "cell_type": "code",
   "execution_count": 153,
   "id": "f14f6e53",
   "metadata": {},
   "outputs": [],
   "source": [
    "cosine_dist=getCosineDistanceMatrix(coauthor_embeddings)"
   ]
  },
  {
   "cell_type": "code",
   "execution_count": 154,
   "id": "028e0b61",
   "metadata": {},
   "outputs": [],
   "source": [
    "sse=[]\n",
    "k_list=[]\n",
    "for k in range(2,20):\n",
    "   \n",
    "    km=KMeans(n_clusters=k)\n",
    "    km.fit(cosine_dist)\n",
    "    sse.append(km.inertia_)"
   ]
  },
  {
   "cell_type": "code",
   "execution_count": 155,
   "id": "5263b370",
   "metadata": {},
   "outputs": [
    {
     "data": {
      "text/plain": [
       "[<matplotlib.lines.Line2D at 0x1d5948e3e80>]"
      ]
     },
     "execution_count": 155,
     "metadata": {},
     "output_type": "execute_result"
    },
    {
     "data": {
      "image/png": "[encoded data removed]",
      "text/plain": [
       "<Figure size 864x432 with 1 Axes>"
      ]
     },
     "metadata": {},
     "output_type": "display_data"
    }
   ],
   "source": [
    "plt.figure(figsize=(12,6))\n",
    "plt.plot([i for i in range(2,20)],sse)"
   ]
  },
  {
   "cell_type": "code",
   "execution_count": 156,
   "id": "f1eee46a",
   "metadata": {},
   "outputs": [],
   "source": [
    "km=KMeans(n_clusters=7)\n",
    "coauthor_clusters=km.fit_predict(cosine_dist)\n",
    "coauthor_cluster_dict={node:str(coauthor_clusters[idx]) for idx,node in enumerate(coauthor_nodes)}\n",
    "nx.set_node_attributes(coauthor_subgraph,coauthor_cluster_dict,\"group\")"
   ]
  },
  {
   "cell_type": "code",
   "execution_count": 157,
   "id": "d77190ed",
   "metadata": {},
   "outputs": [
    {
     "name": "stdout",
     "output_type": "stream",
     "text": [
      "Creating PyVis from NetworkX\n",
      "Saving PyVis Graph\n"
     ]
    },
    {
     "data": {
      "text/html": [
       "\n",
       "        <iframe\n",
       "            width=\"100%\"\n",
       "            height=\"600px\"\n",
       "            src=\"Author4to10_CoAuthorGraph_Clustered.html\"\n",
       "            frameborder=\"0\"\n",
       "            allowfullscreen\n",
       "        ></iframe>\n",
       "        "
      ],
      "text/plain": [
       "<IPython.lib.display.IFrame at 0x1d593d09910>"
      ]
     },
     "execution_count": 157,
     "metadata": {},
     "output_type": "execute_result"
    }
   ],
   "source": [
    "pyvis_nt=Network(notebook=True,height='600px', width='100%',heading='Author Network')\n",
    "\n",
    "print(\"Creating PyVis from NetworkX\")\n",
    "pyvis_nt.from_nx(coauthor_subgraph)\n",
    "pyvis_nt.toggle_physics(True)\n",
    "print(\"Saving PyVis Graph\")\n",
    "#pyvis_nt.show_buttons()\n",
    "#pyvis_nt.set_options('var options = {\"edges\": { \"color\": { \"inherit\": true },\"smooth\": false},\"physics\": {\"hierarchicalRepulsion\": { \"centralGravity\": 0 },\"minVelocity\": 0.75, \"solver\": \"hierarchicalRepulsion\",\"timestep\": 0.18}}')\n",
    "\n",
    "\n",
    "pyvis_nt.show(\"Author4to10_CoAuthorGraph_Clustered.html\")"
   ]
  },
  {
   "cell_type": "markdown",
   "id": "7a6055f9",
   "metadata": {},
   "source": [
    "## Word Cloud for keywords"
   ]
  },
  {
   "cell_type": "code",
   "execution_count": 164,
   "id": "f3e35368",
   "metadata": {},
   "outputs": [
    {
     "data": {
      "text/plain": [
       "0     intergenerational mobility, education, educati...\n",
       "1     labor supply, intertemporal substitution, loss...\n",
       "2     spatial mismatch, multiple equilibria, racial ...\n",
       "3     job search, mobility, unemployment, wages, dur...\n",
       "4     death, longevity, health, business cycle, rece...\n",
       "5     teenage behavior, peer effects, time use, expe...\n",
       "6                   crime, juvenile, twins, guns, drugs\n",
       "7     work-related training, gender, fixed term cont...\n",
       "8      skill bias, organisational change, manufacturing\n",
       "9     formal salary systems, returns to seniority, i...\n",
       "10    disability, gender, employment, wage discrimin...\n",
       "11     optimal taxation, efficiency wages, unemployment\n",
       "12    immigration, emigration, causes, effects, poli...\n",
       "13             economic geography, education, subsidies\n",
       "14    entrepreneurship, self-employment, occupationa...\n",
       "15    Social Security Disability Insurance, Health a...\n",
       "16    Social Security Disability Insurance, Health a...\n",
       "17    severance pay, employment protection, employme...\n",
       "18    foreign direct investment, multinationals, spi...\n",
       "19    migration, unemployment, labor market integrat...\n",
       "20              earnings instability, on-the-job search\n",
       "21    elimination tournaments, uneven tournaments, i...\n",
       "22    barriers to entry, costs of unjust dismissals,...\n",
       "23      minimum wages, matching models, Nash bargaining\n",
       "24    employment, non-employment, labor market parti...\n",
       "25    employment rate, market frictions, labour mark...\n",
       "26    education, earnings, neighbours, families, pee...\n",
       "27    families, neighbours, schools, educational ref...\n",
       "28    unemployment benefits, unemployment duration, ...\n",
       "29    growth, income distribution, intergenerational...\n",
       "Name: Keywords, dtype: object"
      ]
     },
     "execution_count": 164,
     "metadata": {},
     "output_type": "execute_result"
    }
   ],
   "source": [
    "df_cleaned[\"Keywords\"].head(30)"
   ]
  },
  {
   "cell_type": "code",
   "execution_count": null,
   "id": "6806f406",
   "metadata": {},
   "outputs": [],
   "source": []
  }
 ],
 "metadata": {
  "kernelspec": {
   "display_name": "Python 3",
   "language": "python",
   "name": "python3"
  },
  "language_info": {
   "codemirror_mode": {
    "name": "ipython",
    "version": 3
   },
   "file_extension": ".py",
   "mimetype": "text/x-python",
   "name": "python",
   "nbconvert_exporter": "python",
   "pygments_lexer": "ipython3",
   "version": "3.8.8"
  }
 },
 "nbformat": 4,
 "nbformat_minor": 5
}
