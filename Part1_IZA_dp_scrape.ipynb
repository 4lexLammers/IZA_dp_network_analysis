{
 "cells": [
  {
   "cell_type": "code",
   "execution_count": 2,
   "id": "549c7b3e",
   "metadata": {},
   "outputs": [
    {
     "name": "stdout",
     "output_type": "stream",
     "text": [
      "1\n",
      "Completed\n",
      "2\n",
      "Completed\n",
      "3\n",
      "Completed\n",
      "There are 0 papers not found\n"
     ]
    }
   ],
   "source": [
    "# Relevant packages\n",
    "from urllib.request import urlopen\n",
    "\n",
    "# Provide start and endnumber of the papers you want to save\n",
    "startnumber = 1\n",
    "endnumber = 4\n",
    "\n",
    "# Seconds to wait between every download\n",
    "seconds = 1\n",
    "\n",
    "# Initial value for number of papers not downloaded\n",
    "notfind = 0\n",
    "\n",
    "for paper in range(startnumber,endnumber):\n",
    "    try:\n",
    "        print (paper)\n",
    "        response = urlopen(\"https://docs.iza.org/dp%d.pdf\"%(paper,))\n",
    "        file = open(\"dp%d.pdf\"%(paper,), 'wb')\n",
    "        file.write(response.read())\n",
    "        file.close()\n",
    "        print(\"Completed\")\n",
    "    except:\n",
    "        print(\"Could not find dp%d.pdf\"%(paper,))\n",
    "        print(\"Moving to next file\")\n",
    "        notfind += 1\n",
    "        pass\n",
    "print (\"There are %d papers not found\" %notfind)"
   ]
  },
  {
   "cell_type": "code",
   "execution_count": null,
   "id": "629d9911",
   "metadata": {},
   "outputs": [],
   "source": []
  }
 ],
 "metadata": {
  "kernelspec": {
   "display_name": "Python 3",
   "language": "python",
   "name": "python3"
  },
  "language_info": {
   "codemirror_mode": {
    "name": "ipython",
    "version": 3
   },
   "file_extension": ".py",
   "mimetype": "text/x-python",
   "name": "python",
   "nbconvert_exporter": "python",
   "pygments_lexer": "ipython3",
   "version": "3.8.8"
  }
 },
 "nbformat": 4,
 "nbformat_minor": 5
}
